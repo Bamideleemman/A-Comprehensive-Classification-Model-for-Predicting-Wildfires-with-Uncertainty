{
 "cells": [
  {
   "cell_type": "code",
   "execution_count": 1,
   "metadata": {},
   "outputs": [],
   "source": [
    "import pandas as pd, numpy as np, os\n",
    "from sklearn.svm import SVC, LinearSVC\n",
    "from sklearn.model_selection import cross_val_score, validation_curve, train_test_split, GridSearchCV \n",
    "from sklearn.pipeline import make_pipeline\n",
    "from sklearn.metrics import classification_report, confusion_matrix, accuracy_score\n",
    "from sklearn.preprocessing import StandardScaler, MinMaxScaler, RobustScaler\n",
    "from sklearn.experimental importt enable_hist_gradient_boosting\n",
    "import matplotlib.pyplot as plt\n",
    "from sklearn.ensemble import BaggingClassifier, GradientBoostingClassifier, RandomForestClassifier, ExtraTreesClassifier, AdaBoostClassifier,HistGradientBoostingClassifier\n",
    "import xgboost as xgb\n",
    "from sklearn.neural_network import MLPClassifier\n",
    "from sklearn.neighbors import KNeighborsClassifier\n",
    "from rgf.sklearn import RGFClassifier\n",
    "from sklearn.naive_bayes import GaussianNB\n",
    "from sklearn.linear_model import SGDClassifier\n",
    "import matplotlib.pyplot as plt"
   ]
  },
  {
   "cell_type": "code",
   "execution_count": 2,
   "metadata": {},
   "outputs": [],
   "source": [
    "#import wildfire data set \n",
    "df = pd.read_csv(\"WildFires_DataSet.csv\")"
   ]
  },
  {
   "cell_type": "markdown",
   "metadata": {},
   "source": [
    "A description of the above dataset can be found here: \n",
    "https://github.com/ouladsayadyounes/Wildfires"
   ]
  },
  {
   "cell_type": "code",
   "execution_count": 3,
   "metadata": {
    "scrolled": true
   },
   "outputs": [
    {
     "data": {
      "text/html": [
       "<div>\n",
       "<style scoped>\n",
       "    .dataframe tbody tr th:only-of-type {\n",
       "        vertical-align: middle;\n",
       "    }\n",
       "\n",
       "    .dataframe tbody tr th {\n",
       "        vertical-align: top;\n",
       "    }\n",
       "\n",
       "    .dataframe thead th {\n",
       "        text-align: right;\n",
       "    }\n",
       "</style>\n",
       "<table border=\"1\" class=\"dataframe\">\n",
       "  <thead>\n",
       "    <tr style=\"text-align: right;\">\n",
       "      <th></th>\n",
       "      <th>NDVI</th>\n",
       "      <th>LST</th>\n",
       "      <th>BURNED_AREA</th>\n",
       "      <th>CLASS</th>\n",
       "    </tr>\n",
       "  </thead>\n",
       "  <tbody>\n",
       "    <tr>\n",
       "      <th>0</th>\n",
       "      <td>0.506782</td>\n",
       "      <td>14584.272727</td>\n",
       "      <td>4.692308</td>\n",
       "      <td>no_fire</td>\n",
       "    </tr>\n",
       "    <tr>\n",
       "      <th>1</th>\n",
       "      <td>0.522150</td>\n",
       "      <td>14655.833333</td>\n",
       "      <td>5.000000</td>\n",
       "      <td>no_fire</td>\n",
       "    </tr>\n",
       "    <tr>\n",
       "      <th>2</th>\n",
       "      <td>0.682284</td>\n",
       "      <td>14780.000000</td>\n",
       "      <td>5.000000</td>\n",
       "      <td>fire</td>\n",
       "    </tr>\n",
       "    <tr>\n",
       "      <th>3</th>\n",
       "      <td>0.120046</td>\n",
       "      <td>13298.500000</td>\n",
       "      <td>3.500000</td>\n",
       "      <td>no_fire</td>\n",
       "    </tr>\n",
       "    <tr>\n",
       "      <th>4</th>\n",
       "      <td>0.568734</td>\n",
       "      <td>14743.000000</td>\n",
       "      <td>5.000000</td>\n",
       "      <td>no_fire</td>\n",
       "    </tr>\n",
       "  </tbody>\n",
       "</table>\n",
       "</div>"
      ],
      "text/plain": [
       "       NDVI           LST  BURNED_AREA    CLASS\n",
       "0  0.506782  14584.272727     4.692308  no_fire\n",
       "1  0.522150  14655.833333     5.000000  no_fire\n",
       "2  0.682284  14780.000000     5.000000     fire\n",
       "3  0.120046  13298.500000     3.500000  no_fire\n",
       "4  0.568734  14743.000000     5.000000  no_fire"
      ]
     },
     "execution_count": 3,
     "metadata": {},
     "output_type": "execute_result"
    }
   ],
   "source": [
    "#snapshot of the data\n",
    "df.head()"
   ]
  },
  {
   "cell_type": "code",
   "execution_count": 4,
   "metadata": {
    "scrolled": true
   },
   "outputs": [
    {
     "data": {
      "text/html": [
       "<div>\n",
       "<style scoped>\n",
       "    .dataframe tbody tr th:only-of-type {\n",
       "        vertical-align: middle;\n",
       "    }\n",
       "\n",
       "    .dataframe tbody tr th {\n",
       "        vertical-align: top;\n",
       "    }\n",
       "\n",
       "    .dataframe thead th {\n",
       "        text-align: right;\n",
       "    }\n",
       "</style>\n",
       "<table border=\"1\" class=\"dataframe\">\n",
       "  <thead>\n",
       "    <tr style=\"text-align: right;\">\n",
       "      <th></th>\n",
       "      <th>NDVI</th>\n",
       "      <th>LST</th>\n",
       "      <th>BURNED_AREA</th>\n",
       "    </tr>\n",
       "  </thead>\n",
       "  <tbody>\n",
       "    <tr>\n",
       "      <th>count</th>\n",
       "      <td>1713.000000</td>\n",
       "      <td>1713.000000</td>\n",
       "      <td>1713.000000</td>\n",
       "    </tr>\n",
       "    <tr>\n",
       "      <th>mean</th>\n",
       "      <td>0.555665</td>\n",
       "      <td>14622.802073</td>\n",
       "      <td>4.674973</td>\n",
       "    </tr>\n",
       "    <tr>\n",
       "      <th>std</th>\n",
       "      <td>0.092847</td>\n",
       "      <td>366.927861</td>\n",
       "      <td>0.583791</td>\n",
       "    </tr>\n",
       "    <tr>\n",
       "      <th>min</th>\n",
       "      <td>0.030735</td>\n",
       "      <td>13137.000000</td>\n",
       "      <td>3.000000</td>\n",
       "    </tr>\n",
       "    <tr>\n",
       "      <th>25%</th>\n",
       "      <td>0.501276</td>\n",
       "      <td>14406.000000</td>\n",
       "      <td>4.521951</td>\n",
       "    </tr>\n",
       "    <tr>\n",
       "      <th>50%</th>\n",
       "      <td>0.565181</td>\n",
       "      <td>14645.750000</td>\n",
       "      <td>4.920635</td>\n",
       "    </tr>\n",
       "    <tr>\n",
       "      <th>75%</th>\n",
       "      <td>0.620987</td>\n",
       "      <td>14881.300000</td>\n",
       "      <td>5.000000</td>\n",
       "    </tr>\n",
       "    <tr>\n",
       "      <th>max</th>\n",
       "      <td>0.781723</td>\n",
       "      <td>15611.570513</td>\n",
       "      <td>9.000000</td>\n",
       "    </tr>\n",
       "  </tbody>\n",
       "</table>\n",
       "</div>"
      ],
      "text/plain": [
       "              NDVI           LST  BURNED_AREA\n",
       "count  1713.000000   1713.000000  1713.000000\n",
       "mean      0.555665  14622.802073     4.674973\n",
       "std       0.092847    366.927861     0.583791\n",
       "min       0.030735  13137.000000     3.000000\n",
       "25%       0.501276  14406.000000     4.521951\n",
       "50%       0.565181  14645.750000     4.920635\n",
       "75%       0.620987  14881.300000     5.000000\n",
       "max       0.781723  15611.570513     9.000000"
      ]
     },
     "execution_count": 4,
     "metadata": {},
     "output_type": "execute_result"
    }
   ],
   "source": [
    "df.describe()"
   ]
  },
  {
   "cell_type": "code",
   "execution_count": 5,
   "metadata": {},
   "outputs": [],
   "source": [
    "#input/features\n",
    "X = df[[\"NDVI\", \"LST\", \"BURNED_AREA\"]]\n",
    "\n",
    "#output\n",
    "y = df[\"CLASS\"]\n",
    "\n",
    "#replace the categories with numerical values\n",
    "y.replace({\"no_fire\":0, \"fire\":1}, inplace=True)"
   ]
  },
  {
   "cell_type": "code",
   "execution_count": 6,
   "metadata": {},
   "outputs": [],
   "source": [
    "# Train Test split\n",
    "X_train, X_test, y_train, y_test = train_test_split(X, y, test_size = 0.30, random_state = 5)"
   ]
  },
  {
   "cell_type": "code",
   "execution_count": 7,
   "metadata": {},
   "outputs": [],
   "source": [
    "#Scaler\n",
    "scaler = StandardScaler()"
   ]
  },
  {
   "cell_type": "markdown",
   "metadata": {},
   "source": [
    "#### SVM"
   ]
  },
  {
   "cell_type": "code",
   "execution_count": 8,
   "metadata": {},
   "outputs": [
    {
     "name": "stdout",
     "output_type": "stream",
     "text": [
      "Fitting 5 folds for each of 50 candidates, totalling 250 fits\n"
     ]
    },
    {
     "name": "stderr",
     "output_type": "stream",
     "text": [
      "[Parallel(n_jobs=-1)]: Using backend LokyBackend with 16 concurrent workers.\n",
      "[Parallel(n_jobs=-1)]: Done  96 tasks      | elapsed:    1.9s\n",
      "[Parallel(n_jobs=-1)]: Done 250 out of 250 | elapsed:    4.2s finished\n"
     ]
    },
    {
     "name": "stdout",
     "output_type": "stream",
     "text": [
      "{'C': 199.52623149688787, 'gamma': 0.5, 'kernel': 'rbf'}\n",
      "SVC(C=199.52623149688787, break_ties=False, cache_size=200, class_weight=None,\n",
      "    coef0=0.0, decision_function_shape='ovr', degree=3, gamma=0.5, kernel='rbf',\n",
      "    max_iter=-1, probability=False, random_state=5, shrinking=True, tol=0.001,\n",
      "    verbose=False)\n",
      "              precision    recall  f1-score   support\n",
      "\n",
      "           0       0.80      0.96      0.87       391\n",
      "           1       0.64      0.23      0.34       123\n",
      "\n",
      "    accuracy                           0.78       514\n",
      "   macro avg       0.72      0.59      0.60       514\n",
      "weighted avg       0.76      0.78      0.74       514\n",
      "\n",
      "[[375  16]\n",
      " [ 95  28]]\n"
     ]
    }
   ],
   "source": [
    "#### GRID SEARCH ON SVM \n",
    "clf = SVC(random_state=5)\n",
    "# defining parameter range \n",
    "param_grid = {'C': np.logspace(1, 2.3, 10),  \n",
    "              'gamma': np.linspace(0,2, 5), \n",
    "              'kernel': ['rbf']}  \n",
    "  \n",
    "grid = GridSearchCV(clf, param_grid, refit = True, cv = 5, verbose = 3,\n",
    "                    error_score=0,\n",
    "                    n_jobs=-1) \n",
    "  \n",
    "# fitting the model for grid search \n",
    "grid.fit(scaler.fit_transform(X_train), y_train) \n",
    "\n",
    "#### Best Grid search parameter fitting\n",
    "\n",
    "# print best parameter after tuning \n",
    "print(grid.best_params_) \n",
    "  \n",
    "# print how our model looks after hyper-parameter tuning \n",
    "print(grid.best_estimator_) \n",
    "\n",
    "grid_predictions = grid.predict(scaler.transform(X_test)) \n",
    "  \n",
    "# print classification report \n",
    "print(classification_report(y_test, grid_predictions)) \n",
    "print(confusion_matrix(y_test, grid_predictions)) "
   ]
  },
  {
   "cell_type": "code",
   "execution_count": 9,
   "metadata": {},
   "outputs": [
    {
     "name": "stdout",
     "output_type": "stream",
     "text": [
      "Accuracy: 0.797 (+/- 0.02)\n"
     ]
    }
   ],
   "source": [
    "#### Cross val score\n",
    "scores_SVM = cross_val_score(grid.best_estimator_, scaler.fit_transform(X), y, cv=5)\n",
    "\n",
    "#print accuracy and standard deviation \n",
    "print(\"Accuracy: %0.3f (+/- %0.2f)\" % (scores_SVM.mean(), scores_SVM.std() * 2))"
   ]
  },
  {
   "cell_type": "markdown",
   "metadata": {},
   "source": [
    "#### BAGGING CLASSIFER"
   ]
  },
  {
   "cell_type": "code",
   "execution_count": 11,
   "metadata": {},
   "outputs": [
    {
     "name": "stdout",
     "output_type": "stream",
     "text": [
      "Fitting 5 folds for each of 100 candidates, totalling 500 fits\n"
     ]
    },
    {
     "name": "stderr",
     "output_type": "stream",
     "text": [
      "[Parallel(n_jobs=-1)]: Using backend LokyBackend with 16 concurrent workers.\n"
     ]
    }
   ],
   "source": [
    "#grid search for bagging classifier using the SVM classifer obtained above \n",
    "\n",
    "bag = BaggingClassifier(grid.best_estimator_, n_jobs=-1, n_estimators=5, random_state=5)\n",
    "\n",
    "param_grid = {'n_estimators': list(range(0, 110, 10))[1:],  'max_features': list (range(1,21, 2))}  \n",
    "\n",
    "grid = GridSearchCV(bag, param_grid, refit = True, cv = 5, verbose = 3,\n",
    "                    error_score=0,\n",
    "                    n_jobs=-1) \n",
    "  \n",
    "# fitting the model for grid search \n",
    "grid.fit(scaler.fit_transform(X_train), y_train) \n",
    "\n",
    "#### Best Grid search parameter fitting\n",
    "\n",
    "# print best parameter after tuning \n",
    "print(grid.best_params_) \n",
    "  \n",
    "# print how our model looks after hyper-parameter tuning \n",
    "print(grid.best_estimator_) \n",
    "\n",
    "grid_predictions = grid.predict(scaler.transform(X_test)) \n",
    "  \n",
    "# print classification report \n",
    "print(classification_report(y_test, grid_predictions)) \n",
    "print(confusion_matrix(y_test, grid_predictions)) "
   ]
  },
  {
   "cell_type": "code",
   "execution_count": 12,
   "metadata": {},
   "outputs": [],
   "source": [
    "#bagging classifier (SVM)\n",
    "scores_BAG = cross_val_score(grid.best_estimator_, scaler.fit_transform(X), y, cv=5)\n",
    "\n",
    "#print accuracy and standard deviation\n",
    "print(\"Accuracy: %0.4f (+/- %0.4f)\" % (scores_BAG.mean(), scores_BAG.std() * 2))"
   ]
  },
  {
   "cell_type": "markdown",
   "metadata": {},
   "source": [
    "#### EXTRA TREES CLASSIFIER"
   ]
  },
  {
   "cell_type": "code",
   "execution_count": 13,
   "metadata": {},
   "outputs": [
    {
     "name": "stderr",
     "output_type": "stream",
     "text": [
      "[Parallel(n_jobs=-1)]: Done 5000 out of 5000 | elapsed:   52.9s finished\n"
     ]
    },
    {
     "name": "stdout",
     "output_type": "stream",
     "text": [
      "{'max_depth': 13, 'max_features': 3, 'n_estimators': 20}\n",
      "ExtraTreesClassifier(bootstrap=False, ccp_alpha=0.0, class_weight=None,\n",
      "                     criterion='gini', max_depth=13, max_features=3,\n",
      "                     max_leaf_nodes=None, max_samples=None,\n",
      "                     min_impurity_decrease=0.0, min_impurity_split=None,\n",
      "                     min_samples_leaf=1, min_samples_split=2,\n",
      "                     min_weight_fraction_leaf=0.0, n_estimators=20, n_jobs=-1,\n",
      "                     oob_score=False, random_state=5, verbose=0,\n",
      "                     warm_start=False)\n",
      "              precision    recall  f1-score   support\n",
      "\n",
      "           0       0.81      0.95      0.88       391\n",
      "           1       0.67      0.30      0.42       123\n",
      "\n",
      "    accuracy                           0.80       514\n",
      "   macro avg       0.74      0.63      0.65       514\n",
      "weighted avg       0.78      0.80      0.77       514\n",
      "\n",
      "[[373  18]\n",
      " [ 86  37]]\n"
     ]
    }
   ],
   "source": [
    "#### GRID SEARCH for extra trees classifier \n",
    "\n",
    "ext = ExtraTreesClassifier(n_jobs=-1, n_estimators=50, random_state=5)\n",
    "# defining parameter range \n",
    "param_grid = {'n_estimators': list(range(0, 110, 10))[1:],  'max_features': list (range(1,21, 2)), 'max_depth' :list(range(1,21, 2))}  \n",
    "  \n",
    "\n",
    "grid = GridSearchCV(ext, param_grid, refit = True, cv = 5, verbose = 3,\n",
    "                    error_score=0,\n",
    "                    n_jobs=-1) \n",
    "  \n",
    "# fitting the model for grid search \n",
    "grid.fit(scaler.fit_transform(X_train), y_train) \n",
    "\n",
    "#### Best Grid search parameter fitting\n",
    "\n",
    "# print best parameter after tuning \n",
    "print(grid.best_params_) \n",
    "  \n",
    "# print how our model looks after hyper-parameter tuning \n",
    "print(grid.best_estimator_) \n",
    "\n",
    "grid_predictions = grid.predict(scaler.transform(X_test)) \n",
    "  \n",
    "# print classification report \n",
    "print(classification_report(y_test, grid_predictions)) \n",
    "print(confusion_matrix(y_test, grid_predictions)) "
   ]
  },
  {
   "cell_type": "code",
   "execution_count": 14,
   "metadata": {},
   "outputs": [
    {
     "name": "stdout",
     "output_type": "stream",
     "text": [
      "Accuracy: 0.8120 (+/- 0.0289)\n"
     ]
    }
   ],
   "source": [
    "#Accuracy for extra trees classifier \n",
    "scores_EXT = cross_val_score(grid.best_estimator_, scaler.fit_transform(X), y, cv=5)\n",
    "\n",
    "#print accuracy and standard deviation \n",
    "print(\"Accuracy: %0.4f (+/- %0.4f)\" % (scores_EXT.mean(), scores_EXT.std() * 2))"
   ]
  },
  {
   "cell_type": "markdown",
   "metadata": {},
   "source": [
    "#### ADABOOST CLASSIFIER"
   ]
  },
  {
   "cell_type": "code",
   "execution_count": 15,
   "metadata": {},
   "outputs": [
    {
     "name": "stdout",
     "output_type": "stream",
     "text": [
      "Fitting 5 folds for each of 50 candidates, totalling 250 fits\n"
     ]
    },
    {
     "name": "stderr",
     "output_type": "stream",
     "text": [
      "[Parallel(n_jobs=-1)]: Using backend LokyBackend with 16 concurrent workers.\n",
      "[Parallel(n_jobs=-1)]: Done 160 tasks      | elapsed:    1.6s\n"
     ]
    },
    {
     "name": "stdout",
     "output_type": "stream",
     "text": [
      "{'learning_rate': 0.8, 'n_estimators': 10}\n",
      "AdaBoostClassifier(algorithm='SAMME.R', base_estimator=None, learning_rate=0.8,\n",
      "                   n_estimators=10, random_state=5)\n",
      "              precision    recall  f1-score   support\n",
      "\n",
      "           0       0.77      1.00      0.87       391\n",
      "           1       1.00      0.06      0.11       123\n",
      "\n",
      "    accuracy                           0.77       514\n",
      "   macro avg       0.89      0.53      0.49       514\n",
      "weighted avg       0.83      0.77      0.69       514\n",
      "\n",
      "[[391   0]\n",
      " [116   7]]\n"
     ]
    },
    {
     "name": "stderr",
     "output_type": "stream",
     "text": [
      "[Parallel(n_jobs=-1)]: Done 250 out of 250 | elapsed:    2.4s finished\n"
     ]
    }
   ],
   "source": [
    "#### GRID SEARCH for Ada bosst classifier \n",
    "\n",
    "adb = AdaBoostClassifier(n_estimators=20,learning_rate=0.5, random_state=5)\n",
    "# defining parameter range \n",
    "param_grid = {'n_estimators': list(range(0, 110, 10))[1:],  'learning_rate': [0.2, 0.4, 0.6, 0.8, 1]}  \n",
    "  \n",
    "\n",
    "grid = GridSearchCV(adb, param_grid, refit = True, cv = 5, verbose = 3,\n",
    "                    error_score=0,\n",
    "                    n_jobs=-1) \n",
    "  \n",
    "# fitting the model for grid search \n",
    "grid.fit(scaler.fit_transform(X_train), y_train) \n",
    "\n",
    "#### Best Grid search parameter fitting\n",
    "\n",
    "# print best parameter after tuning \n",
    "print(grid.best_params_) \n",
    "  \n",
    "# print how our model looks after hyper-parameter tuning \n",
    "print(grid.best_estimator_) \n",
    "\n",
    "grid_predictions = grid.predict(scaler.transform(X_test)) \n",
    "  \n",
    "# print classification report \n",
    "print(classification_report(y_test, grid_predictions)) \n",
    "print(confusion_matrix(y_test, grid_predictions)) "
   ]
  },
  {
   "cell_type": "code",
   "execution_count": 16,
   "metadata": {},
   "outputs": [
    {
     "name": "stdout",
     "output_type": "stream",
     "text": [
      "Accuracy: 0.7939 (+/- 0.0190)\n"
     ]
    }
   ],
   "source": [
    "#Adaboost classifier \n",
    "scores_ADB = cross_val_score(grid.best_estimator_, scaler.fit_transform(X), y, cv=5)\n",
    "\n",
    "#print accuracy and standard deviation\n",
    "print(\"Accuracy: %0.4f (+/- %0.4f)\" % (scores_ADB.mean(), scores_ADB.std() * 2))"
   ]
  },
  {
   "cell_type": "markdown",
   "metadata": {},
   "source": [
    "#### GRADIENT BOOSTING"
   ]
  },
  {
   "cell_type": "code",
   "execution_count": 17,
   "metadata": {},
   "outputs": [
    {
     "name": "stderr",
     "output_type": "stream",
     "text": [
      "[Parallel(n_jobs=-1)]: Using backend LokyBackend with 16 concurrent workers.\n"
     ]
    },
    {
     "name": "stdout",
     "output_type": "stream",
     "text": [
      "Fitting 5 folds for each of 1000 candidates, totalling 5000 fits\n"
     ]
    },
    {
     "name": "stderr",
     "output_type": "stream",
     "text": [
      "[Parallel(n_jobs=-1)]: Done 224 tasks      | elapsed:    0.9s\n",
      "[Parallel(n_jobs=-1)]: Done 3232 tasks      | elapsed:    7.9s\n",
      "[Parallel(n_jobs=-1)]: Done 4628 tasks      | elapsed:   19.7s\n",
      "[Parallel(n_jobs=-1)]: Done 5000 out of 5000 | elapsed:   24.2s finished\n"
     ]
    },
    {
     "name": "stdout",
     "output_type": "stream",
     "text": [
      "{'max_depth': 17, 'max_features': 1, 'n_estimators': 70}\n",
      "GradientBoostingClassifier(ccp_alpha=0.0, criterion='friedman_mse', init=None,\n",
      "                           learning_rate=0.3, loss='deviance', max_depth=17,\n",
      "                           max_features=1, max_leaf_nodes=None,\n",
      "                           min_impurity_decrease=0.0, min_impurity_split=None,\n",
      "                           min_samples_leaf=1, min_samples_split=2,\n",
      "                           min_weight_fraction_leaf=0.0, n_estimators=70,\n",
      "                           n_iter_no_change=None, presort='deprecated',\n",
      "                           random_state=5, subsample=0.289, tol=0.0001,\n",
      "                           validation_fraction=0.1, verbose=0,\n",
      "                           warm_start=False)\n",
      "              precision    recall  f1-score   support\n",
      "\n",
      "           0       0.83      0.91      0.87       391\n",
      "           1       0.59      0.42      0.49       123\n",
      "\n",
      "    accuracy                           0.79       514\n",
      "   macro avg       0.71      0.67      0.68       514\n",
      "weighted avg       0.78      0.79      0.78       514\n",
      "\n",
      "[[355  36]\n",
      " [ 71  52]]\n"
     ]
    }
   ],
   "source": [
    "#Gradient Boosting \n",
    "gb_clf2 = GradientBoostingClassifier(n_estimators=20, learning_rate=0.3, max_features=2, max_depth=2, subsample=0.289, random_state=5)\n",
    "# defining parameter range \n",
    "param_grid = {'n_estimators': list(range(0, 110, 10))[1:],  'max_features': list (range(1,21, 2)), 'max_depth' :list(range(1,21, 2))}  \n",
    "  \n",
    "\n",
    "grid = GridSearchCV(gb_clf2, param_grid, refit = True, cv = 5, verbose = 3,\n",
    "                    error_score=0,\n",
    "                    n_jobs=-1) \n",
    "  \n",
    "# fitting the model for grid search \n",
    "grid.fit(scaler.fit_transform(X_train), y_train) \n",
    "\n",
    "#### Best Grid search parameter fitting\n",
    "\n",
    "# print best parameter after tuning \n",
    "print(grid.best_params_) \n",
    "  \n",
    "# print how our model looks after hyper-parameter tuning \n",
    "print(grid.best_estimator_) \n",
    "\n",
    "grid_predictions = grid.predict(scaler.transform(X_test)) \n",
    "  \n",
    "# print classification report \n",
    "print(classification_report(y_test, grid_predictions)) \n",
    "print(confusion_matrix(y_test, grid_predictions)) "
   ]
  },
  {
   "cell_type": "code",
   "execution_count": 18,
   "metadata": {},
   "outputs": [
    {
     "name": "stdout",
     "output_type": "stream",
     "text": [
      "Accuracy: 0.8115 (+/- 0.0293)\n"
     ]
    }
   ],
   "source": [
    "#Gradient boosting classfier \n",
    "scores_GB = cross_val_score(grid.best_estimator_, scaler.fit_transform(X), y, cv=5)\n",
    "\n",
    "#print accuracy and standard deviation\n",
    "print(\"Accuracy: %0.4f (+/- %0.4f)\" % (scores_GB.mean(), scores_GB.std() * 2))"
   ]
  },
  {
   "cell_type": "markdown",
   "metadata": {},
   "source": [
    "#### XGBOOST"
   ]
  },
  {
   "cell_type": "code",
   "execution_count": 19,
   "metadata": {},
   "outputs": [
    {
     "name": "stdout",
     "output_type": "stream",
     "text": [
      "Fitting 5 folds for each of 1000 candidates, totalling 5000 fits\n"
     ]
    },
    {
     "name": "stderr",
     "output_type": "stream",
     "text": [
      "[Parallel(n_jobs=-1)]: Using backend LokyBackend with 16 concurrent workers.\n",
      "[Parallel(n_jobs=-1)]: Done 112 tasks      | elapsed:    1.2s\n",
      "[Parallel(n_jobs=-1)]: Done 1168 tasks      | elapsed:    4.8s\n",
      "[Parallel(n_jobs=-1)]: Done 2960 tasks      | elapsed:   11.5s\n",
      "[Parallel(n_jobs=-1)]: Done 4914 tasks      | elapsed:   18.7s\n",
      "[Parallel(n_jobs=-1)]: Done 5000 out of 5000 | elapsed:   19.2s finished\n"
     ]
    },
    {
     "name": "stdout",
     "output_type": "stream",
     "text": [
      "{'max_depth': 3, 'max_features': 1, 'n_estimators': 90}\n",
      "XGBClassifier(alpha=10, base_score=0.5, booster=None, colsample_bylevel=1,\n",
      "              colsample_bynode=1, colsample_bytree=0.3, eta=0.3, gamma=0,\n",
      "              gpu_id=-1, importance_type='gain', interaction_constraints=None,\n",
      "              learning_rate=0.1, max_delta_step=0, max_depth=3, max_features=1,\n",
      "              min_child_weight=1, missing=nan, monotone_constraints=None,\n",
      "              n_estimators=90, n_jobs=0, num_class=2, num_parallel_tree=1,\n",
      "              objective='multi:softprob', random_state=5, reg_alpha=10,\n",
      "              reg_lambda=1, scale_pos_weight=None, subsample=1,\n",
      "              tree_method=None, validate_parameters=False, ...)\n",
      "              precision    recall  f1-score   support\n",
      "\n",
      "           0       0.77      0.99      0.87       391\n",
      "           1       0.69      0.07      0.13       123\n",
      "\n",
      "    accuracy                           0.77       514\n",
      "   macro avg       0.73      0.53      0.50       514\n",
      "weighted avg       0.75      0.77      0.69       514\n",
      "\n",
      "[[387   4]\n",
      " [114   9]]\n"
     ]
    }
   ],
   "source": [
    "xg_clf = xgb.XGBClassifier(objective ='multi:softprob', eta = 0.3,   \n",
    "   \n",
    "    num_class =2, colsample_bytree = 0.3, learning_rate = 0.1,\n",
    "                max_depth = 5, alpha = 10, n_estimators = 20, random_state=5)\n",
    "\n",
    "param_grid = {'n_estimators': list(range(0, 110, 10))[1:] ,  'max_features': list (range(1,21, 2)), 'max_depth':list(range(1,21, 2))}  \n",
    "  \n",
    "\n",
    "grid = GridSearchCV(xg_clf , param_grid, refit = True, cv = 5, verbose = 3,\n",
    "                    error_score=0,\n",
    "                    n_jobs=-1) \n",
    "  \n",
    "# fitting the model for grid search \n",
    "grid.fit(scaler.fit_transform(X_train), y_train) \n",
    "\n",
    "#### Best Grid search parameter fitting\n",
    "\n",
    "# print best parameter after tuning \n",
    "print(grid.best_params_) \n",
    "  \n",
    "# print how our model looks after hyper-parameter tuning \n",
    "print(grid.best_estimator_) \n",
    "\n",
    "grid_predictions = grid.predict(scaler.transform(X_test)) \n",
    "  \n",
    "# print classification report \n",
    "print(classification_report(y_test, grid_predictions)) \n",
    "print(confusion_matrix(y_test, grid_predictions)) "
   ]
  },
  {
   "cell_type": "code",
   "execution_count": 20,
   "metadata": {},
   "outputs": [
    {
     "name": "stdout",
     "output_type": "stream",
     "text": [
      "Accuracy: 0.7887 (+/- 0.0105)\n"
     ]
    }
   ],
   "source": [
    "#Extreme Gradient Boosting classifier \n",
    "scores_XGB = cross_val_score(grid.best_estimator_, scaler.fit_transform(X), y, cv=5)\n",
    "\n",
    "#print accuracy and standard deviation\n",
    "print(\"Accuracy: %0.4f (+/- %0.4f)\" % (scores_XGB.mean(), scores_XGB.std() * 2))"
   ]
  },
  {
   "cell_type": "markdown",
   "metadata": {},
   "source": [
    "#### RANDOM FOREST"
   ]
  },
  {
   "cell_type": "code",
   "execution_count": 21,
   "metadata": {
    "scrolled": true
   },
   "outputs": [
    {
     "name": "stdout",
     "output_type": "stream",
     "text": [
      "Fitting 5 folds for each of 1000 candidates, totalling 5000 fits\n"
     ]
    },
    {
     "name": "stderr",
     "output_type": "stream",
     "text": [
      "[Parallel(n_jobs=-1)]: Using backend LokyBackend with 16 concurrent workers.\n",
      "[Parallel(n_jobs=-1)]: Done 160 tasks      | elapsed:    1.1s\n",
      "[Parallel(n_jobs=-1)]: Done 928 tasks      | elapsed:    4.1s\n",
      "[Parallel(n_jobs=-1)]: Done 2720 tasks      | elapsed:   11.9s\n",
      "[Parallel(n_jobs=-1)]: Done 4856 tasks      | elapsed:   21.3s\n",
      "[Parallel(n_jobs=-1)]: Done 4969 out of 5000 | elapsed:   21.7s remaining:    0.1s\n"
     ]
    },
    {
     "name": "stdout",
     "output_type": "stream",
     "text": [
      "{'max_depth': 16, 'max_features': 1, 'n_estimators': 40}\n",
      "RandomForestClassifier(bootstrap=True, ccp_alpha=0.0, class_weight=None,\n",
      "                       criterion='gini', max_depth=16, max_features=1,\n",
      "                       max_leaf_nodes=None, max_samples=None,\n",
      "                       min_impurity_decrease=0.0, min_impurity_split=None,\n",
      "                       min_samples_leaf=1, min_samples_split=2,\n",
      "                       min_weight_fraction_leaf=0.0, n_estimators=40,\n",
      "                       n_jobs=None, oob_score=True, random_state=5, verbose=0,\n",
      "                       warm_start=False)\n",
      "              precision    recall  f1-score   support\n",
      "\n",
      "           0       0.83      0.94      0.88       391\n",
      "           1       0.69      0.40      0.51       123\n",
      "\n",
      "    accuracy                           0.81       514\n",
      "   macro avg       0.76      0.67      0.70       514\n",
      "weighted avg       0.80      0.81      0.79       514\n",
      "\n",
      "[[369  22]\n",
      " [ 74  49]]\n"
     ]
    },
    {
     "name": "stderr",
     "output_type": "stream",
     "text": [
      "[Parallel(n_jobs=-1)]: Done 5000 out of 5000 | elapsed:   22.2s finished\n"
     ]
    }
   ],
   "source": [
    "#Random Forest\n",
    "\n",
    "rf_clf2 = RandomForestClassifier(n_estimators=100, max_depth = 18, \n",
    "                                   min_samples_split = 2,  min_samples_leaf = 1,random_state=5, oob_score=True, bootstrap=True)\n",
    "\n",
    "\n",
    "param_grid = {'n_estimators': list(range(0, 110, 10))[1:], 'max_features': list (range(1,21, 2)), 'max_depth' :list(range(0,21, 2))[1:]}  \n",
    "  \n",
    "\n",
    "grid = GridSearchCV(rf_clf2 , param_grid, refit = True, cv = 5, verbose = 3,\n",
    "                    error_score=0,\n",
    "                    n_jobs=-1) \n",
    "  \n",
    "# fitting the model for grid search \n",
    "grid.fit(scaler.fit_transform(X_train), y_train) \n",
    "\n",
    "#### Best Grid search parameter fitting\n",
    "\n",
    "# print best parameter after tuning \n",
    "print(grid.best_params_) \n",
    "  \n",
    "# print how our model looks after hyper-parameter tuning \n",
    "print(grid.best_estimator_) \n",
    "\n",
    "grid_predictions = grid.predict(scaler.transform(X_test)) \n",
    "  \n",
    "# print classification report \n",
    "print(classification_report(y_test, grid_predictions)) \n",
    "print(confusion_matrix(y_test, grid_predictions)) "
   ]
  },
  {
   "cell_type": "code",
   "execution_count": 22,
   "metadata": {},
   "outputs": [
    {
     "name": "stdout",
     "output_type": "stream",
     "text": [
      "Accuracy: 0.8476 (+/- 0.0244)\n"
     ]
    }
   ],
   "source": [
    "#Random Forest classfier \n",
    "scores_RF = cross_val_score(grid.best_estimator_, scaler.fit_transform(X), y, cv=5)\n",
    "\n",
    "#print accuracy and standard deviation\n",
    "print(\"Accuracy: %0.4f (+/- %0.4f)\" % (scores_RF.mean(), scores_RF.std() * 2))"
   ]
  },
  {
   "cell_type": "markdown",
   "metadata": {},
   "source": [
    "#### SKLEARN NEURAL NET"
   ]
  },
  {
   "cell_type": "code",
   "execution_count": 23,
   "metadata": {},
   "outputs": [
    {
     "name": "stdout",
     "output_type": "stream",
     "text": [
      "Fitting 5 folds for each of 10 candidates, totalling 50 fits\n"
     ]
    },
    {
     "name": "stderr",
     "output_type": "stream",
     "text": [
      "[Parallel(n_jobs=-1)]: Using backend LokyBackend with 16 concurrent workers.\n",
      "[Parallel(n_jobs=-1)]: Done  36 out of  50 | elapsed:    1.6s remaining:    0.6s\n",
      "[Parallel(n_jobs=-1)]: Done  50 out of  50 | elapsed:    2.0s finished\n"
     ]
    },
    {
     "name": "stdout",
     "output_type": "stream",
     "text": [
      "{'hidden_layer_sizes': 50}\n",
      "MLPClassifier(activation='relu', alpha=1, batch_size='auto', beta_1=0.9,\n",
      "              beta_2=0.999, early_stopping=False, epsilon=1e-08,\n",
      "              hidden_layer_sizes=50, learning_rate='constant',\n",
      "              learning_rate_init=0.001, max_fun=15000, max_iter=200,\n",
      "              momentum=0.9, n_iter_no_change=10, nesterovs_momentum=True,\n",
      "              power_t=0.5, random_state=5, shuffle=True, solver='adam',\n",
      "              tol=0.0001, validation_fraction=0.1, verbose=False,\n",
      "              warm_start=False)\n",
      "              precision    recall  f1-score   support\n",
      "\n",
      "           0       0.77      0.98      0.86       391\n",
      "           1       0.53      0.07      0.13       123\n",
      "\n",
      "    accuracy                           0.76       514\n",
      "   macro avg       0.65      0.53      0.50       514\n",
      "weighted avg       0.71      0.76      0.69       514\n",
      "\n",
      "[[383   8]\n",
      " [114   9]]\n"
     ]
    }
   ],
   "source": [
    "ml_clf2 = MLPClassifier(hidden_layer_sizes=30\n",
    "                        , activation='relu', solver='adam', alpha=1, random_state=5)\n",
    "param_grid = {'hidden_layer_sizes': list(range(0, 51, 5))[1:]}  \n",
    "  \n",
    "\n",
    "grid = GridSearchCV(ml_clf2 , param_grid, refit = True, cv = 5, verbose = 3,\n",
    "                    error_score=0,\n",
    "                    n_jobs=-1) \n",
    "  \n",
    "# fitting the model for grid search \n",
    "grid.fit(scaler.fit_transform(X_train), y_train) \n",
    "\n",
    "#### Best Grid search parameter fitting\n",
    "\n",
    "# print best parameter after tuning \n",
    "print(grid.best_params_) \n",
    "  \n",
    "# print how our model looks after hyper-parameter tuning \n",
    "print(grid.best_estimator_) \n",
    "\n",
    "grid_predictions = grid.predict(scaler.transform(X_test)) \n",
    "  \n",
    "# print classification report \n",
    "print(classification_report(y_test, grid_predictions)) \n",
    "print(confusion_matrix(y_test, grid_predictions)) "
   ]
  },
  {
   "cell_type": "code",
   "execution_count": 24,
   "metadata": {},
   "outputs": [
    {
     "name": "stdout",
     "output_type": "stream",
     "text": [
      "Accuracy: 0.7828 (+/- 0.0150)\n"
     ]
    }
   ],
   "source": [
    "#MLP Classifier\n",
    "scores_NN = cross_val_score(grid.best_estimator_, scaler.fit_transform(X), y, cv=5)\n",
    "\n",
    "#print accuracy and standard deviation\n",
    "print(\"Accuracy: %0.4f (+/- %0.4f)\" % (scores_NN.mean(), scores_NN.std() * 2))"
   ]
  },
  {
   "cell_type": "markdown",
   "metadata": {},
   "source": [
    "#### NEAREST NEIGHBOUR"
   ]
  },
  {
   "cell_type": "code",
   "execution_count": 25,
   "metadata": {},
   "outputs": [
    {
     "name": "stdout",
     "output_type": "stream",
     "text": [
      "Fitting 5 folds for each of 7 candidates, totalling 35 fits\n",
      "{'n_neighbors': 11}\n",
      "KNeighborsClassifier(algorithm='brute', leaf_size=30, metric='minkowski',\n",
      "                     metric_params=None, n_jobs=None, n_neighbors=11, p=2,\n",
      "                     weights='uniform')\n",
      "              precision    recall  f1-score   support\n",
      "\n",
      "           0       0.80      0.94      0.86       391\n",
      "           1       0.56      0.24      0.33       123\n",
      "\n",
      "    accuracy                           0.77       514\n",
      "   macro avg       0.68      0.59      0.60       514\n",
      "weighted avg       0.74      0.77      0.74       514\n",
      "\n",
      "[[368  23]\n",
      " [ 94  29]]\n",
      "              precision    recall  f1-score   support\n",
      "\n",
      "           0       0.82      0.86      0.84       391\n",
      "           1       0.47      0.38      0.42       123\n",
      "\n",
      "    accuracy                           0.75       514\n",
      "   macro avg       0.64      0.62      0.63       514\n",
      "weighted avg       0.73      0.75      0.74       514\n",
      "\n",
      "0.7490272373540856\n"
     ]
    },
    {
     "name": "stderr",
     "output_type": "stream",
     "text": [
      "[Parallel(n_jobs=-1)]: Using backend LokyBackend with 16 concurrent workers.\n",
      "[Parallel(n_jobs=-1)]: Done  16 out of  35 | elapsed:    0.1s remaining:    0.1s\n",
      "[Parallel(n_jobs=-1)]: Done  28 out of  35 | elapsed:    0.1s remaining:    0.0s\n",
      "[Parallel(n_jobs=-1)]: Done  35 out of  35 | elapsed:    0.1s finished\n"
     ]
    }
   ],
   "source": [
    "neigh = KNeighborsClassifier(n_neighbors=3, algorithm=\"brute\")\n",
    "param_grid = {'n_neighbors': list(range(1, 15, 2))}  \n",
    "\n",
    "grid = GridSearchCV(neigh , param_grid, refit = True, cv = 5, verbose = 3,\n",
    "                    error_score=0,\n",
    "                    n_jobs=-1) \n",
    "  \n",
    "# fitting the model for grid search \n",
    "grid.fit(scaler.fit_transform(X_train), y_train) \n",
    "\n",
    "#### Best Grid search parameter fitting\n",
    "\n",
    "# print best parameter after tuning \n",
    "print(grid.best_params_) \n",
    "  \n",
    "# print how our model looks after hyper-parameter tuning \n",
    "print(grid.best_estimator_) \n",
    "\n",
    "grid_predictions = grid.predict(scaler.transform(X_test)) \n",
    "  \n",
    "# print classification report \n",
    "print(classification_report(y_test, grid_predictions)) \n",
    "print(confusion_matrix(y_test, grid_predictions)) \n",
    "neigh.fit(scaler.fit_transform(X_train), y_train)\n",
    "predictions = neigh.predict(scaler.transform(X_test))\n",
    "\n",
    "print(classification_report(y_test, predictions)) \n",
    "print(accuracy_score(y_test, predictions))"
   ]
  },
  {
   "cell_type": "code",
   "execution_count": 26,
   "metadata": {},
   "outputs": [
    {
     "name": "stdout",
     "output_type": "stream",
     "text": [
      "Accuracy: 0.7846 (+/- 0.0321)\n"
     ]
    }
   ],
   "source": [
    "#Nearest NEighbour Classifier\n",
    "scores_NNeigh = cross_val_score(grid.best_estimator_, scaler.fit_transform(X), y, cv=5)\n",
    "\n",
    "#print accuracy and standard deviation\n",
    "print(\"Accuracy: %0.4f (+/- %0.4f)\" % (scores_NNeigh.mean(), scores_NNeigh.std() * 2))"
   ]
  },
  {
   "cell_type": "markdown",
   "metadata": {},
   "source": [
    "#### GAUSSIAN NAIVE BAYES"
   ]
  },
  {
   "cell_type": "code",
   "execution_count": 27,
   "metadata": {},
   "outputs": [
    {
     "name": "stdout",
     "output_type": "stream",
     "text": [
      "Accuracy: 0.7776 (+/- 0.0128)\n"
     ]
    }
   ],
   "source": [
    "#NAive bayes classfier\n",
    "gnb = GaussianNB()\n",
    "scores_NB = cross_val_score(gnb, scaler.fit_transform(X), y, cv=5)\n",
    "\n",
    "#print accuracy and standard deviation\n",
    "print(\"Accuracy: %0.4f (+/- %0.4f)\" % (scores_NB.mean(), scores_NB.std() * 2))"
   ]
  },
  {
   "cell_type": "markdown",
   "metadata": {},
   "source": [
    "#### STOCHASTIC GRADIENT"
   ]
  },
  {
   "cell_type": "code",
   "execution_count": 28,
   "metadata": {},
   "outputs": [
    {
     "name": "stdout",
     "output_type": "stream",
     "text": [
      "Fitting 5 folds for each of 9 candidates, totalling 45 fits\n"
     ]
    },
    {
     "name": "stderr",
     "output_type": "stream",
     "text": [
      "[Parallel(n_jobs=-1)]: Using backend LokyBackend with 16 concurrent workers.\n",
      "[Parallel(n_jobs=-1)]: Done  14 out of  45 | elapsed:    0.1s remaining:    0.2s\n",
      "[Parallel(n_jobs=-1)]: Done  30 out of  45 | elapsed:    0.2s remaining:    0.1s\n",
      "[Parallel(n_jobs=-1)]: Done  45 out of  45 | elapsed:    0.2s finished\n"
     ]
    },
    {
     "name": "stdout",
     "output_type": "stream",
     "text": [
      "{'loss': 'huber'}\n",
      "SGDClassifier(alpha=0.0001, average=False, class_weight=None,\n",
      "              early_stopping=False, epsilon=0.1, eta0=0.0, fit_intercept=True,\n",
      "              l1_ratio=0.15, learning_rate='optimal', loss='huber',\n",
      "              max_iter=1000, n_iter_no_change=5, n_jobs=None, penalty='l2',\n",
      "              power_t=0.5, random_state=5, shuffle=True, tol=0.001,\n",
      "              validation_fraction=0.1, verbose=0, warm_start=False)\n",
      "              precision    recall  f1-score   support\n",
      "\n",
      "           0       0.76      0.98      0.86       391\n",
      "           1       0.00      0.00      0.00       123\n",
      "\n",
      "    accuracy                           0.75       514\n",
      "   macro avg       0.38      0.49      0.43       514\n",
      "weighted avg       0.58      0.75      0.65       514\n",
      "\n",
      "[[385   6]\n",
      " [123   0]]\n",
      "              precision    recall  f1-score   support\n",
      "\n",
      "           0       0.82      0.86      0.84       391\n",
      "           1       0.47      0.38      0.42       123\n",
      "\n",
      "    accuracy                           0.75       514\n",
      "   macro avg       0.64      0.62      0.63       514\n",
      "weighted avg       0.73      0.75      0.74       514\n",
      "\n"
     ]
    }
   ],
   "source": [
    "param_grid = {'loss': ['hinge', 'log', 'modified_huber',\n",
    "    'squared_hinge', 'perceptron', 'squared_loss',\n",
    "    'huber', 'epsilon_insensitive', 'squared_epsilon_insensitive']}\n",
    "sgc = SGDClassifier(random_state=5)\n",
    "grid = GridSearchCV(sgc , param_grid, refit = True, cv = 5, verbose = 3,\n",
    "                    error_score=0,\n",
    "                    n_jobs=-1) \n",
    "  \n",
    "# fitting the model for grid search \n",
    "grid.fit(scaler.fit_transform(X_train), y_train) \n",
    "\n",
    "#### Best Grid search parameter fitting\n",
    "\n",
    "# print best parameter after tuning \n",
    "print(grid.best_params_) \n",
    "  \n",
    "# print how our model looks after hyper-parameter tuning \n",
    "print(grid.best_estimator_) \n",
    "\n",
    "grid_predictions = grid.predict(scaler.transform(X_test)) \n",
    "  \n",
    "# print classification report \n",
    "print(classification_report(y_test, grid_predictions)) \n",
    "print(confusion_matrix(y_test, grid_predictions)) \n",
    "neigh.fit(scaler.fit_transform(X_train), y_train)\n",
    "predictions = neigh.predict(scaler.transform(X_test))\n",
    "print(classification_report(y_test, predictions)) \n"
   ]
  },
  {
   "cell_type": "code",
   "execution_count": 29,
   "metadata": {},
   "outputs": [
    {
     "name": "stdout",
     "output_type": "stream",
     "text": [
      "Accuracy: 0.7735 (+/- 0.0043)\n"
     ]
    }
   ],
   "source": [
    "#Stochastic Gradient boosting classifier \n",
    "scores_SGD = cross_val_score(grid.best_estimator_, scaler.fit_transform(X), y, cv=5)\n",
    "\n",
    "#print accuracy and standard deviation\n",
    "print(\"Accuracy: %0.4f (+/- %0.4f)\" % (scores_SGD.mean(), scores_SGD.std() * 2))"
   ]
  },
  {
   "cell_type": "markdown",
   "metadata": {},
   "source": [
    "#### PLOT BAR CHART"
   ]
  },
  {
   "cell_type": "markdown",
   "metadata": {},
   "source": [
    "SVM = Support Vector Machine <br>\n",
    "BAG_SVM = bagging Classifers (of SVMs)<br>\n",
    "EXT = Extra Trees Classifer <br>\n",
    "ADB = Adabost Classifier<br>\n",
    "GB = Gradient Boosting <br>\n",
    "XGB = Extreme Gradient Boosting <br>\n",
    "RF = Random Forest <br>\n",
    "NN = Neural Network <br>\n",
    "NNEIGH = Nearest Neighbour <br>\n",
    "SGD = Stochastic Gradient Descent "
   ]
  },
  {
   "cell_type": "code",
   "execution_count": 32,
   "metadata": {},
   "outputs": [],
   "source": [
    "models = ['SVM', 'BAG_SVM', 'EXT', 'ADB', 'GB', 'XGB', 'RF', 'NN', 'NNEIGH', 'NB', 'SGD']\n",
    "x_pos = np.arange(len(models))\n",
    "mean = [scores_SVM.mean(), scores_BAG.mean(), scores_EXT.mean(), scores_ADB.mean(), scores_GB.mean(), scores_XGB.mean(), scores_RF.mean(),scores_NN.mean(), scores_NNeigh.mean(), scores_NB.mean(), scores_SGD.mean() ]\n",
    "std = [scores_SVM.std(), scores_BAG.std(), scores_EXT.std(), scores_ADB.std(), scores_GB.std(), scores_XGB.std(), scores_RF.std(),scores_NN.std(), scores_NNeigh.std(), scores_NB.std(), scores_SGD.std() ]"
   ]
  },
  {
   "cell_type": "code",
   "execution_count": 33,
   "metadata": {},
   "outputs": [
    {
     "data": {
      "image/png": "[encoded data removed]",
      "text/plain": [
       "<Figure size 720x360 with 1 Axes>"
      ]
     },
     "metadata": {
      "needs_background": "light"
     },
     "output_type": "display_data"
    }
   ],
   "source": [
    "#plot with \n",
    "fig, ax = plt.subplots(figsize =(10,5))\n",
    "ax.bar(x_pos, mean, yerr=std, align='center', alpha=0.5, ecolor='red', capsize=18)\n",
    "ax.set_ylabel('Accuracy')\n",
    "ax.set_xticks(x_pos)\n",
    "ax.set_xticklabels(models, rotation=45)\n",
    "ax.set_title('Accuracy and standard deviation of classifiers in predicting wildfires')\n",
    "ax.yaxis.grid(True)\n",
    "# Save the figure and show\n",
    "plt.tight_layout()\n",
    "plt.savefig(\"accuracy\")\n",
    "plt.show()"
   ]
  },
  {
   "cell_type": "markdown",
   "metadata": {},
   "source": [
    "More details on the result analysis can be found in my blogpost: https://sites.tufts.edu/olukunleowolabi/2020/03/15/a-comprehensive-classification-model-for-predicting-wildfires-with-uncertainty/"
   ]
  },
  {
   "cell_type": "code",
   "execution_count": null,
   "metadata": {},
   "outputs": [],
   "source": []
  }
 ],
 "metadata": {
  "kernelspec": {
   "display_name": "Python 3",
   "language": "python",
   "name": "python3"
  },
  "language_info": {
   "codemirror_mode": {
    "name": "ipython",
    "version": 3
   },
   "file_extension": ".py",
   "mimetype": "text/x-python",
   "name": "python",
   "nbconvert_exporter": "python",
   "pygments_lexer": "ipython3",
   "version": "3.7.1"
  }
 },
 "nbformat": 4,
 "nbformat_minor": 2
}
